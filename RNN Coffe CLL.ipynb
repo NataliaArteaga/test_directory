{
 "cells": [
  {
   "cell_type": "code",
   "execution_count": 25,
   "id": "43d60a3d",
   "metadata": {},
   "outputs": [],
   "source": [
    "#import libraries  \n",
    "import pathlib\n",
    "\n",
    "import matplotlib.pyplot as plt\n",
    "import pandas as pd\n",
    "import seaborn as sns\n",
    "import numpy as np\n",
    "#Tensorflow is a google AI framework\n",
    "import tensorflow as tf\n",
    "#Keras is a DeepLearning API for Tensorflow\n",
    "from tensorflow import keras\n",
    "from tensorflow.keras import layers"
   ]
  },
  {
   "cell_type": "code",
   "execution_count": 26,
   "id": "06acf6c7",
   "metadata": {},
   "outputs": [
    {
     "data": {
      "text/html": [
       "<div>\n",
       "<style scoped>\n",
       "    .dataframe tbody tr th:only-of-type {\n",
       "        vertical-align: middle;\n",
       "    }\n",
       "\n",
       "    .dataframe tbody tr th {\n",
       "        vertical-align: top;\n",
       "    }\n",
       "\n",
       "    .dataframe thead th {\n",
       "        text-align: right;\n",
       "    }\n",
       "</style>\n",
       "<table border=\"1\" class=\"dataframe\">\n",
       "  <thead>\n",
       "    <tr style=\"text-align: right;\">\n",
       "      <th></th>\n",
       "      <th>CLL</th>\n",
       "      <th>NDVI</th>\n",
       "      <th>CVI</th>\n",
       "      <th>GNDVI</th>\n",
       "      <th>NRVI3</th>\n",
       "      <th>NRVI</th>\n",
       "      <th>RVI</th>\n",
       "      <th>GCI</th>\n",
       "    </tr>\n",
       "  </thead>\n",
       "  <tbody>\n",
       "    <tr>\n",
       "      <th>0</th>\n",
       "      <td>114.51</td>\n",
       "      <td>0.227151</td>\n",
       "      <td>1.458211</td>\n",
       "      <td>0.519744</td>\n",
       "      <td>0.011720</td>\n",
       "      <td>0.227151</td>\n",
       "      <td>1.589461</td>\n",
       "      <td>1.519888</td>\n",
       "    </tr>\n",
       "    <tr>\n",
       "      <th>1</th>\n",
       "      <td>111.03</td>\n",
       "      <td>0.232475</td>\n",
       "      <td>1.504808</td>\n",
       "      <td>0.550758</td>\n",
       "      <td>0.012564</td>\n",
       "      <td>0.232475</td>\n",
       "      <td>1.607123</td>\n",
       "      <td>1.550893</td>\n",
       "    </tr>\n",
       "    <tr>\n",
       "      <th>2</th>\n",
       "      <td>117.61</td>\n",
       "      <td>0.227241</td>\n",
       "      <td>1.433650</td>\n",
       "      <td>0.505362</td>\n",
       "      <td>0.011734</td>\n",
       "      <td>0.227241</td>\n",
       "      <td>1.589634</td>\n",
       "      <td>1.505504</td>\n",
       "    </tr>\n",
       "    <tr>\n",
       "      <th>3</th>\n",
       "      <td>103.48</td>\n",
       "      <td>0.229360</td>\n",
       "      <td>1.445648</td>\n",
       "      <td>0.515255</td>\n",
       "      <td>0.012066</td>\n",
       "      <td>0.229360</td>\n",
       "      <td>1.596564</td>\n",
       "      <td>1.515392</td>\n",
       "    </tr>\n",
       "    <tr>\n",
       "      <th>4</th>\n",
       "      <td>132.56</td>\n",
       "      <td>0.228474</td>\n",
       "      <td>1.515317</td>\n",
       "      <td>0.550987</td>\n",
       "      <td>0.011926</td>\n",
       "      <td>0.228474</td>\n",
       "      <td>1.593706</td>\n",
       "      <td>1.551143</td>\n",
       "    </tr>\n",
       "  </tbody>\n",
       "</table>\n",
       "</div>"
      ],
      "text/plain": [
       "      CLL      NDVI       CVI     GNDVI     NRVI3      NRVI       RVI  \\\n",
       "0  114.51  0.227151  1.458211  0.519744  0.011720  0.227151  1.589461   \n",
       "1  111.03  0.232475  1.504808  0.550758  0.012564  0.232475  1.607123   \n",
       "2  117.61  0.227241  1.433650  0.505362  0.011734  0.227241  1.589634   \n",
       "3  103.48  0.229360  1.445648  0.515255  0.012066  0.229360  1.596564   \n",
       "4  132.56  0.228474  1.515317  0.550987  0.011926  0.228474  1.593706   \n",
       "\n",
       "        GCI  \n",
       "0  1.519888  \n",
       "1  1.550893  \n",
       "2  1.505504  \n",
       "3  1.515392  \n",
       "4  1.551143  "
      ]
     },
     "execution_count": 26,
     "metadata": {},
     "output_type": "execute_result"
    }
   ],
   "source": [
    "#Import dataset\n",
    "column_names = ['CLL','NDVI','CVI','GNDVI','NRVI3','NRVI','RVI','GCI']\n",
    "raw_dataset = pd.read_csv('./data_raw.csv',names=column_names,\n",
    "                          na_values = \"?\", sep=\",\", skipinitialspace=True)\n",
    "dataset = raw_dataset.copy()\n",
    "dataset.head()"
   ]
  },
  {
   "cell_type": "code",
   "execution_count": 27,
   "id": "8e6e93d9",
   "metadata": {},
   "outputs": [
    {
     "data": {
      "text/plain": [
       "CLL      0\n",
       "NDVI     0\n",
       "CVI      0\n",
       "GNDVI    0\n",
       "NRVI3    0\n",
       "NRVI     0\n",
       "RVI      0\n",
       "GCI      0\n",
       "dtype: int64"
      ]
     },
     "execution_count": 27,
     "metadata": {},
     "output_type": "execute_result"
    }
   ],
   "source": [
    "#Verify NaN data\n",
    "dataset.isna().sum()"
   ]
  },
  {
   "cell_type": "code",
   "execution_count": 28,
   "id": "ce3a7c8c",
   "metadata": {},
   "outputs": [],
   "source": [
    "#Clean data (in this case is optional XD)\n",
    "dataset = dataset.dropna()"
   ]
  },
  {
   "cell_type": "code",
   "execution_count": 29,
   "id": "c474b7f0",
   "metadata": {},
   "outputs": [
    {
     "data": {
      "text/html": [
       "<div>\n",
       "<style scoped>\n",
       "    .dataframe tbody tr th:only-of-type {\n",
       "        vertical-align: middle;\n",
       "    }\n",
       "\n",
       "    .dataframe tbody tr th {\n",
       "        vertical-align: top;\n",
       "    }\n",
       "\n",
       "    .dataframe thead th {\n",
       "        text-align: right;\n",
       "    }\n",
       "</style>\n",
       "<table border=\"1\" class=\"dataframe\">\n",
       "  <thead>\n",
       "    <tr style=\"text-align: right;\">\n",
       "      <th></th>\n",
       "      <th>CLL</th>\n",
       "      <th>NDVI</th>\n",
       "      <th>CVI</th>\n",
       "      <th>GNDVI</th>\n",
       "      <th>NRVI3</th>\n",
       "      <th>NRVI</th>\n",
       "      <th>RVI</th>\n",
       "      <th>GCI</th>\n",
       "    </tr>\n",
       "  </thead>\n",
       "  <tbody>\n",
       "    <tr>\n",
       "      <th>174</th>\n",
       "      <td>137.03</td>\n",
       "      <td>0.237050</td>\n",
       "      <td>1.631462</td>\n",
       "      <td>0.621582</td>\n",
       "      <td>0.013320</td>\n",
       "      <td>0.237050</td>\n",
       "      <td>1.624381</td>\n",
       "      <td>1.621785</td>\n",
       "    </tr>\n",
       "    <tr>\n",
       "      <th>188</th>\n",
       "      <td>121.15</td>\n",
       "      <td>0.227241</td>\n",
       "      <td>1.475482</td>\n",
       "      <td>0.535967</td>\n",
       "      <td>0.011734</td>\n",
       "      <td>0.227241</td>\n",
       "      <td>1.589634</td>\n",
       "      <td>1.505504</td>\n",
       "    </tr>\n",
       "    <tr>\n",
       "      <th>190</th>\n",
       "      <td>153.46</td>\n",
       "      <td>0.231170</td>\n",
       "      <td>1.399699</td>\n",
       "      <td>0.494203</td>\n",
       "      <td>0.012354</td>\n",
       "      <td>0.231170</td>\n",
       "      <td>1.603164</td>\n",
       "      <td>1.494366</td>\n",
       "    </tr>\n",
       "    <tr>\n",
       "      <th>192</th>\n",
       "      <td>121.15</td>\n",
       "      <td>0.231772</td>\n",
       "      <td>1.475482</td>\n",
       "      <td>0.535967</td>\n",
       "      <td>0.012450</td>\n",
       "      <td>0.231772</td>\n",
       "      <td>1.604709</td>\n",
       "      <td>1.536103</td>\n",
       "    </tr>\n",
       "    <tr>\n",
       "      <th>195</th>\n",
       "      <td>126.78</td>\n",
       "      <td>0.229651</td>\n",
       "      <td>1.547861</td>\n",
       "      <td>0.569637</td>\n",
       "      <td>0.012112</td>\n",
       "      <td>0.229651</td>\n",
       "      <td>1.598648</td>\n",
       "      <td>1.569809</td>\n",
       "    </tr>\n",
       "  </tbody>\n",
       "</table>\n",
       "</div>"
      ],
      "text/plain": [
       "        CLL      NDVI       CVI     GNDVI     NRVI3      NRVI       RVI  \\\n",
       "174  137.03  0.237050  1.631462  0.621582  0.013320  0.237050  1.624381   \n",
       "188  121.15  0.227241  1.475482  0.535967  0.011734  0.227241  1.589634   \n",
       "190  153.46  0.231170  1.399699  0.494203  0.012354  0.231170  1.603164   \n",
       "192  121.15  0.231772  1.475482  0.535967  0.012450  0.231772  1.604709   \n",
       "195  126.78  0.229651  1.547861  0.569637  0.012112  0.229651  1.598648   \n",
       "\n",
       "          GCI  \n",
       "174  1.621785  \n",
       "188  1.505504  \n",
       "190  1.494366  \n",
       "192  1.536103  \n",
       "195  1.569809  "
      ]
     },
     "execution_count": 29,
     "metadata": {},
     "output_type": "execute_result"
    }
   ],
   "source": [
    "#Divide th dataset into training and tests (80% for training process and 20% for evaluation)\n",
    "train_dataset = dataset.sample(frac=0.9,random_state=0)\n",
    "test_dataset = dataset.drop(train_dataset.index)\n",
    "test_dataset.tail()"
   ]
  },
  {
   "cell_type": "code",
   "execution_count": 30,
   "id": "f663f9b5",
   "metadata": {},
   "outputs": [
    {
     "data": {
      "text/html": [
       "<div>\n",
       "<style scoped>\n",
       "    .dataframe tbody tr th:only-of-type {\n",
       "        vertical-align: middle;\n",
       "    }\n",
       "\n",
       "    .dataframe tbody tr th {\n",
       "        vertical-align: top;\n",
       "    }\n",
       "\n",
       "    .dataframe thead th {\n",
       "        text-align: right;\n",
       "    }\n",
       "</style>\n",
       "<table border=\"1\" class=\"dataframe\">\n",
       "  <thead>\n",
       "    <tr style=\"text-align: right;\">\n",
       "      <th></th>\n",
       "      <th>count</th>\n",
       "      <th>mean</th>\n",
       "      <th>std</th>\n",
       "      <th>min</th>\n",
       "      <th>25%</th>\n",
       "      <th>50%</th>\n",
       "      <th>75%</th>\n",
       "      <th>max</th>\n",
       "    </tr>\n",
       "  </thead>\n",
       "  <tbody>\n",
       "    <tr>\n",
       "      <th>NDVI</th>\n",
       "      <td>181.0</td>\n",
       "      <td>0.231310</td>\n",
       "      <td>0.003280</td>\n",
       "      <td>0.224126</td>\n",
       "      <td>0.228474</td>\n",
       "      <td>0.231170</td>\n",
       "      <td>0.233214</td>\n",
       "      <td>0.238489</td>\n",
       "    </tr>\n",
       "    <tr>\n",
       "      <th>CVI</th>\n",
       "      <td>181.0</td>\n",
       "      <td>1.481196</td>\n",
       "      <td>0.072231</td>\n",
       "      <td>1.311795</td>\n",
       "      <td>1.420466</td>\n",
       "      <td>1.480338</td>\n",
       "      <td>1.541093</td>\n",
       "      <td>1.641889</td>\n",
       "    </tr>\n",
       "    <tr>\n",
       "      <th>GNDVI</th>\n",
       "      <td>181.0</td>\n",
       "      <td>0.537421</td>\n",
       "      <td>0.040919</td>\n",
       "      <td>0.445593</td>\n",
       "      <td>0.504737</td>\n",
       "      <td>0.537392</td>\n",
       "      <td>0.568191</td>\n",
       "      <td>0.627462</td>\n",
       "    </tr>\n",
       "    <tr>\n",
       "      <th>NRVI3</th>\n",
       "      <td>181.0</td>\n",
       "      <td>0.012378</td>\n",
       "      <td>0.000525</td>\n",
       "      <td>0.011258</td>\n",
       "      <td>0.011926</td>\n",
       "      <td>0.012344</td>\n",
       "      <td>0.012684</td>\n",
       "      <td>0.013565</td>\n",
       "    </tr>\n",
       "    <tr>\n",
       "      <th>NRVI</th>\n",
       "      <td>181.0</td>\n",
       "      <td>0.231339</td>\n",
       "      <td>0.003281</td>\n",
       "      <td>0.224126</td>\n",
       "      <td>0.228474</td>\n",
       "      <td>0.231170</td>\n",
       "      <td>0.233214</td>\n",
       "      <td>0.238489</td>\n",
       "    </tr>\n",
       "    <tr>\n",
       "      <th>RVI</th>\n",
       "      <td>181.0</td>\n",
       "      <td>1.603304</td>\n",
       "      <td>0.011200</td>\n",
       "      <td>1.579154</td>\n",
       "      <td>1.593739</td>\n",
       "      <td>1.603164</td>\n",
       "      <td>1.609195</td>\n",
       "      <td>1.627838</td>\n",
       "    </tr>\n",
       "    <tr>\n",
       "      <th>GCI</th>\n",
       "      <td>181.0</td>\n",
       "      <td>1.537198</td>\n",
       "      <td>0.040866</td>\n",
       "      <td>1.445773</td>\n",
       "      <td>1.504873</td>\n",
       "      <td>1.536348</td>\n",
       "      <td>1.568373</td>\n",
       "      <td>1.627633</td>\n",
       "    </tr>\n",
       "  </tbody>\n",
       "</table>\n",
       "</div>"
      ],
      "text/plain": [
       "       count      mean       std       min       25%       50%       75%  \\\n",
       "NDVI   181.0  0.231310  0.003280  0.224126  0.228474  0.231170  0.233214   \n",
       "CVI    181.0  1.481196  0.072231  1.311795  1.420466  1.480338  1.541093   \n",
       "GNDVI  181.0  0.537421  0.040919  0.445593  0.504737  0.537392  0.568191   \n",
       "NRVI3  181.0  0.012378  0.000525  0.011258  0.011926  0.012344  0.012684   \n",
       "NRVI   181.0  0.231339  0.003281  0.224126  0.228474  0.231170  0.233214   \n",
       "RVI    181.0  1.603304  0.011200  1.579154  1.593739  1.603164  1.609195   \n",
       "GCI    181.0  1.537198  0.040866  1.445773  1.504873  1.536348  1.568373   \n",
       "\n",
       "            max  \n",
       "NDVI   0.238489  \n",
       "CVI    1.641889  \n",
       "GNDVI  0.627462  \n",
       "NRVI3  0.013565  \n",
       "NRVI   0.238489  \n",
       "RVI    1.627838  \n",
       "GCI    1.627633  "
      ]
     },
     "execution_count": 30,
     "metadata": {},
     "output_type": "execute_result"
    }
   ],
   "source": [
    "#View general data about train_data_set\n",
    "train_stats = train_dataset.describe()\n",
    "train_stats.pop(\"CLL\")\n",
    "train_stats = train_stats.transpose()\n",
    "train_stats"
   ]
  },
  {
   "cell_type": "code",
   "execution_count": 31,
   "id": "c01951bb",
   "metadata": {},
   "outputs": [
    {
     "data": {
      "text/plain": [
       "18     108.87\n",
       "170    128.44\n",
       "107    133.44\n",
       "98     154.26\n",
       "177    117.72\n",
       "Name: CLL, dtype: float64"
      ]
     },
     "execution_count": 31,
     "metadata": {},
     "output_type": "execute_result"
    }
   ],
   "source": [
    "#Select the target label\n",
    "train_labels = train_dataset.pop('CLL')\n",
    "test_labels = test_dataset.pop('CLL')\n",
    "train_labels.head()"
   ]
  },
  {
   "cell_type": "code",
   "execution_count": 32,
   "id": "633a2a91",
   "metadata": {},
   "outputs": [],
   "source": [
    "#Build a model -- MLP secuential model with 2 layers\n",
    "def build_model():\n",
    "  model = keras.Sequential([\n",
    "    layers.Dense(64, activation='relu', input_shape=[len(train_dataset.keys())]),\n",
    "    layers.Dense(64, activation='relu'),\n",
    "    layers.Dense(1)\n",
    "  ])\n",
    "\n",
    "  optimizer = tf.keras.optimizers.RMSprop(0.001)\n",
    "\n",
    "  model.compile(loss='mse',\n",
    "                optimizer=optimizer,\n",
    "                metrics=['mae', 'mse'])\n",
    "  return model\n"
   ]
  },
  {
   "cell_type": "code",
   "execution_count": 33,
   "id": "1d419879",
   "metadata": {},
   "outputs": [],
   "source": [
    "#Build\n",
    "model = build_model()"
   ]
  },
  {
   "cell_type": "code",
   "execution_count": 34,
   "id": "83acf3d6",
   "metadata": {
    "scrolled": true
   },
   "outputs": [
    {
     "name": "stdout",
     "output_type": "stream",
     "text": [
      "Model: \"sequential_2\"\n",
      "_________________________________________________________________\n",
      "Layer (type)                 Output Shape              Param #   \n",
      "=================================================================\n",
      "dense_6 (Dense)              (None, 64)                512       \n",
      "_________________________________________________________________\n",
      "dense_7 (Dense)              (None, 64)                4160      \n",
      "_________________________________________________________________\n",
      "dense_8 (Dense)              (None, 1)                 65        \n",
      "=================================================================\n",
      "Total params: 4,737\n",
      "Trainable params: 4,737\n",
      "Non-trainable params: 0\n",
      "_________________________________________________________________\n"
     ]
    }
   ],
   "source": [
    "#Resume \n",
    "model.summary()"
   ]
  },
  {
   "cell_type": "code",
   "execution_count": 35,
   "id": "355af1b2",
   "metadata": {},
   "outputs": [
    {
     "data": {
      "text/html": [
       "<div>\n",
       "<style scoped>\n",
       "    .dataframe tbody tr th:only-of-type {\n",
       "        vertical-align: middle;\n",
       "    }\n",
       "\n",
       "    .dataframe tbody tr th {\n",
       "        vertical-align: top;\n",
       "    }\n",
       "\n",
       "    .dataframe thead th {\n",
       "        text-align: right;\n",
       "    }\n",
       "</style>\n",
       "<table border=\"1\" class=\"dataframe\">\n",
       "  <thead>\n",
       "    <tr style=\"text-align: right;\">\n",
       "      <th></th>\n",
       "      <th>NDVI</th>\n",
       "      <th>CVI</th>\n",
       "      <th>GNDVI</th>\n",
       "      <th>NRVI3</th>\n",
       "      <th>NRVI</th>\n",
       "      <th>RVI</th>\n",
       "      <th>GCI</th>\n",
       "    </tr>\n",
       "  </thead>\n",
       "  <tbody>\n",
       "    <tr>\n",
       "      <th>18</th>\n",
       "      <td>0.232524</td>\n",
       "      <td>1.530841</td>\n",
       "      <td>0.563897</td>\n",
       "      <td>0.012572</td>\n",
       "      <td>0.232524</td>\n",
       "      <td>1.607222</td>\n",
       "      <td>1.564029</td>\n",
       "    </tr>\n",
       "    <tr>\n",
       "      <th>170</th>\n",
       "      <td>0.229108</td>\n",
       "      <td>1.526880</td>\n",
       "      <td>0.565249</td>\n",
       "      <td>0.012026</td>\n",
       "      <td>0.229108</td>\n",
       "      <td>1.608328</td>\n",
       "      <td>1.565398</td>\n",
       "    </tr>\n",
       "    <tr>\n",
       "      <th>107</th>\n",
       "      <td>0.231111</td>\n",
       "      <td>1.536267</td>\n",
       "      <td>0.566210</td>\n",
       "      <td>0.012344</td>\n",
       "      <td>0.231111</td>\n",
       "      <td>1.602632</td>\n",
       "      <td>1.536348</td>\n",
       "    </tr>\n",
       "    <tr>\n",
       "      <th>98</th>\n",
       "      <td>0.227663</td>\n",
       "      <td>1.444008</td>\n",
       "      <td>0.512362</td>\n",
       "      <td>0.011800</td>\n",
       "      <td>0.227663</td>\n",
       "      <td>1.591750</td>\n",
       "      <td>1.512519</td>\n",
       "    </tr>\n",
       "    <tr>\n",
       "      <th>177</th>\n",
       "      <td>0.234308</td>\n",
       "      <td>1.447912</td>\n",
       "      <td>0.517434</td>\n",
       "      <td>0.012195</td>\n",
       "      <td>0.234308</td>\n",
       "      <td>1.599280</td>\n",
       "      <td>1.517603</td>\n",
       "    </tr>\n",
       "  </tbody>\n",
       "</table>\n",
       "</div>"
      ],
      "text/plain": [
       "         NDVI       CVI     GNDVI     NRVI3      NRVI       RVI       GCI\n",
       "18   0.232524  1.530841  0.563897  0.012572  0.232524  1.607222  1.564029\n",
       "170  0.229108  1.526880  0.565249  0.012026  0.229108  1.608328  1.565398\n",
       "107  0.231111  1.536267  0.566210  0.012344  0.231111  1.602632  1.536348\n",
       "98   0.227663  1.444008  0.512362  0.011800  0.227663  1.591750  1.512519\n",
       "177  0.234308  1.447912  0.517434  0.012195  0.234308  1.599280  1.517603"
      ]
     },
     "execution_count": 35,
     "metadata": {},
     "output_type": "execute_result"
    }
   ],
   "source": [
    "train_dataset= train_dataset.astype('float32')\n",
    "train_labels = train_labels.astype('float32')\n",
    "train_dataset.head()"
   ]
  },
  {
   "cell_type": "code",
   "execution_count": 36,
   "id": "425f21c2",
   "metadata": {},
   "outputs": [],
   "source": [
    "\n",
    "#Train model\n",
    "EPOCHS = 1000\n",
    "\n",
    "history = model.fit(\n",
    "  train_dataset, train_labels,\n",
    "  epochs=EPOCHS, validation_split = 0.2, verbose=0,)\n"
   ]
  },
  {
   "cell_type": "code",
   "execution_count": 37,
   "id": "a1360ba4",
   "metadata": {},
   "outputs": [
    {
     "data": {
      "text/html": [
       "<div>\n",
       "<style scoped>\n",
       "    .dataframe tbody tr th:only-of-type {\n",
       "        vertical-align: middle;\n",
       "    }\n",
       "\n",
       "    .dataframe tbody tr th {\n",
       "        vertical-align: top;\n",
       "    }\n",
       "\n",
       "    .dataframe thead th {\n",
       "        text-align: right;\n",
       "    }\n",
       "</style>\n",
       "<table border=\"1\" class=\"dataframe\">\n",
       "  <thead>\n",
       "    <tr style=\"text-align: right;\">\n",
       "      <th></th>\n",
       "      <th>loss</th>\n",
       "      <th>mae</th>\n",
       "      <th>mse</th>\n",
       "      <th>val_loss</th>\n",
       "      <th>val_mae</th>\n",
       "      <th>val_mse</th>\n",
       "      <th>epoch</th>\n",
       "    </tr>\n",
       "  </thead>\n",
       "  <tbody>\n",
       "    <tr>\n",
       "      <th>995</th>\n",
       "      <td>179.036545</td>\n",
       "      <td>10.872066</td>\n",
       "      <td>179.036545</td>\n",
       "      <td>204.384354</td>\n",
       "      <td>11.046153</td>\n",
       "      <td>204.384354</td>\n",
       "      <td>995</td>\n",
       "    </tr>\n",
       "    <tr>\n",
       "      <th>996</th>\n",
       "      <td>178.907654</td>\n",
       "      <td>10.873650</td>\n",
       "      <td>178.907654</td>\n",
       "      <td>216.079575</td>\n",
       "      <td>11.298914</td>\n",
       "      <td>216.079575</td>\n",
       "      <td>996</td>\n",
       "    </tr>\n",
       "    <tr>\n",
       "      <th>997</th>\n",
       "      <td>181.706726</td>\n",
       "      <td>10.918897</td>\n",
       "      <td>181.706726</td>\n",
       "      <td>202.624313</td>\n",
       "      <td>11.003023</td>\n",
       "      <td>202.624313</td>\n",
       "      <td>997</td>\n",
       "    </tr>\n",
       "    <tr>\n",
       "      <th>998</th>\n",
       "      <td>180.030792</td>\n",
       "      <td>10.896889</td>\n",
       "      <td>180.030792</td>\n",
       "      <td>214.084595</td>\n",
       "      <td>11.264371</td>\n",
       "      <td>214.084595</td>\n",
       "      <td>998</td>\n",
       "    </tr>\n",
       "    <tr>\n",
       "      <th>999</th>\n",
       "      <td>180.856003</td>\n",
       "      <td>10.886783</td>\n",
       "      <td>180.856003</td>\n",
       "      <td>206.395294</td>\n",
       "      <td>11.102128</td>\n",
       "      <td>206.395294</td>\n",
       "      <td>999</td>\n",
       "    </tr>\n",
       "  </tbody>\n",
       "</table>\n",
       "</div>"
      ],
      "text/plain": [
       "           loss        mae         mse    val_loss    val_mae     val_mse  \\\n",
       "995  179.036545  10.872066  179.036545  204.384354  11.046153  204.384354   \n",
       "996  178.907654  10.873650  178.907654  216.079575  11.298914  216.079575   \n",
       "997  181.706726  10.918897  181.706726  202.624313  11.003023  202.624313   \n",
       "998  180.030792  10.896889  180.030792  214.084595  11.264371  214.084595   \n",
       "999  180.856003  10.886783  180.856003  206.395294  11.102128  206.395294   \n",
       "\n",
       "     epoch  \n",
       "995    995  \n",
       "996    996  \n",
       "997    997  \n",
       "998    998  \n",
       "999    999  "
      ]
     },
     "execution_count": 37,
     "metadata": {},
     "output_type": "execute_result"
    }
   ],
   "source": [
    "#Show train stadisticts from history object\n",
    "hist = pd.DataFrame(history.history)\n",
    "hist['epoch'] = history.epoch\n",
    "hist.tail()"
   ]
  },
  {
   "cell_type": "code",
   "execution_count": 38,
   "id": "efb871f3",
   "metadata": {},
   "outputs": [
    {
     "data": {
      "image/png": "[encoded data removed]",
      "text/plain": [
       "<Figure size 432x288 with 1 Axes>"
      ]
     },
     "metadata": {
      "needs_background": "light"
     },
     "output_type": "display_data"
    },
    {
     "data": {
      "image/png": "[encoded data removed]",
      "text/plain": [
       "<Figure size 432x288 with 1 Axes>"
      ]
     },
     "metadata": {
      "needs_background": "light"
     },
     "output_type": "display_data"
    }
   ],
   "source": [
    "#Plot training and value error\n",
    "def plot_history(history):\n",
    "  hist = pd.DataFrame(history.history)\n",
    "  hist['epoch'] = history.epoch\n",
    "\n",
    "  plt.figure()\n",
    "  plt.xlabel('Epoch')\n",
    "  plt.ylabel('Mean Abs Error [CELL]')\n",
    "  plt.plot(hist['epoch'], hist['mae'],\n",
    "           label='Train Error')\n",
    "  plt.plot(hist['epoch'], hist['val_mae'],\n",
    "           label = 'Val Error')\n",
    "  plt.ylim([0,200])\n",
    "  plt.legend()\n",
    "\n",
    "  plt.figure()\n",
    "  plt.xlabel('Epoch')\n",
    "  plt.ylabel('Mean Square Error [$CELL^2$]')\n",
    "  plt.plot(hist['epoch'], hist['mse'],\n",
    "           label='Train Error')\n",
    "  plt.plot(hist['epoch'], hist['val_mse'],\n",
    "           label = 'Val Error')\n",
    "  plt.ylim([0,4000])\n",
    "  plt.legend()\n",
    "  plt.show()\n",
    "\n",
    "\n",
    "plot_history(history)"
   ]
  },
  {
   "cell_type": "code",
   "execution_count": 39,
   "id": "357ad020",
   "metadata": {},
   "outputs": [
    {
     "data": {
      "image/png": "[encoded data removed]",
      "text/plain": [
       "<Figure size 432x288 with 1 Axes>"
      ]
     },
     "metadata": {
      "needs_background": "light"
     },
     "output_type": "display_data"
    },
    {
     "data": {
      "image/png": "[encoded data removed]",
      "text/plain": [
       "<Figure size 432x288 with 1 Axes>"
      ]
     },
     "metadata": {
      "needs_background": "light"
     },
     "output_type": "display_data"
    }
   ],
   "source": [
    "#Improve model with early stopping strategy\n",
    "model = build_model()\n",
    "\n",
    "# The patience parameter is the amount of epochs to check for improvement\n",
    "early_stop = keras.callbacks.EarlyStopping(monitor='val_loss', patience=10)\n",
    "\n",
    "history = model.fit(train_dataset, train_labels, epochs=EPOCHS,\n",
    "                    validation_split = 0.2, verbose=0, callbacks=[early_stop])\n",
    "\n",
    "plot_history(history)"
   ]
  },
  {
   "cell_type": "code",
   "execution_count": 41,
   "id": "027d571e",
   "metadata": {},
   "outputs": [
    {
     "name": "stdout",
     "output_type": "stream",
     "text": [
      "1/1 - 0s - loss: 285.0457 - mae: 12.1724 - mse: 285.0457\n",
      "Testing set Mean Abs Error: 12.17 CELL\n"
     ]
    }
   ],
   "source": [
    "#Evaluate model using data tes\n",
    "loss, mae, mse = model.evaluate(test_dataset, test_labels, verbose=2)\n",
    "\n",
    "print(\"Testing set Mean Abs Error: {:5.2f} CELL\".format(mae))"
   ]
  },
  {
   "cell_type": "code",
   "execution_count": 42,
   "id": "969cb1c9",
   "metadata": {},
   "outputs": [
    {
     "data": {
      "image/png": "[encoded data removed]",
      "text/plain": [
       "<Figure size 432x288 with 1 Axes>"
      ]
     },
     "metadata": {
      "needs_background": "light"
     },
     "output_type": "display_data"
    }
   ],
   "source": [
    "test_predictions = model.predict(test_dataset).flatten()\n",
    "\n",
    "plt.scatter(test_labels, test_predictions)\n",
    "plt.xlabel('True Values [CELL]')\n",
    "plt.ylabel('Predictions [CELL]')\n",
    "plt.axis('equal')\n",
    "plt.axis('square')\n",
    "plt.xlim([80,plt.xlim()[1]])\n",
    "plt.ylim([80,plt.ylim()[1]])\n",
    "_ = plt.plot([0, 200], [0, 200])"
   ]
  },
  {
   "cell_type": "code",
   "execution_count": 43,
   "id": "409b305b",
   "metadata": {},
   "outputs": [
    {
     "data": {
      "image/png": "[encoded data removed]",
      "text/plain": [
       "<Figure size 432x288 with 1 Axes>"
      ]
     },
     "metadata": {
      "needs_background": "light"
     },
     "output_type": "display_data"
    }
   ],
   "source": [
    "#Show error distribution\n",
    "error = test_predictions - test_labels\n",
    "plt.hist(error, bins = 25)\n",
    "plt.xlabel(\"Prediction Error [CLL]\")\n",
    "_ = plt.ylabel(\"Count\")"
   ]
  },
  {
   "cell_type": "code",
   "execution_count": null,
   "id": "2120df91",
   "metadata": {},
   "outputs": [],
   "source": [
    "#It is not entirely Gaussian, but we could expect that because the number of samples is very small.  XD\n",
    "#Maybe with synthetic data and more training epoch we obtain a reasonable improvement "
   ]
  }
 ],
 "metadata": {
  "kernelspec": {
   "display_name": "Python 3",
   "language": "python",
   "name": "python3"
  },
  "language_info": {
   "codemirror_mode": {
    "name": "ipython",
    "version": 3
   },
   "file_extension": ".py",
   "mimetype": "text/x-python",
   "name": "python",
   "nbconvert_exporter": "python",
   "pygments_lexer": "ipython3",
   "version": "3.9.2"
  }
 },
 "nbformat": 4,
 "nbformat_minor": 5
}
