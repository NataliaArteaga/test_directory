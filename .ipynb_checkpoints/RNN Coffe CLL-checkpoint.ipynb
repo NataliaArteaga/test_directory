{
 "cells": [
  {
   "cell_type": "code",
   "execution_count": 65,
   "id": "43d60a3d",
   "metadata": {},
   "outputs": [],
   "source": [
    "#import libraries  \n",
    "import pathlib\n",
    "\n",
    "import matplotlib.pyplot as plt\n",
    "import pandas as pd\n",
    "import seaborn as sns\n",
    "import numpy as np\n",
    "#Tensorflow is a google AI framework\n",
    "import tensorflow as tf\n",
    "#Keras is a DeepLearning API for Tensorflow\n",
    "from tensorflow import keras\n",
    "from tensorflow.keras import layers"
   ]
  },
  {
   "cell_type": "code",
   "execution_count": 66,
   "id": "06acf6c7",
   "metadata": {},
   "outputs": [
    {
     "data": {
      "text/html": [
       "<div>\n",
       "<style scoped>\n",
       "    .dataframe tbody tr th:only-of-type {\n",
       "        vertical-align: middle;\n",
       "    }\n",
       "\n",
       "    .dataframe tbody tr th {\n",
       "        vertical-align: top;\n",
       "    }\n",
       "\n",
       "    .dataframe thead th {\n",
       "        text-align: right;\n",
       "    }\n",
       "</style>\n",
       "<table border=\"1\" class=\"dataframe\">\n",
       "  <thead>\n",
       "    <tr style=\"text-align: right;\">\n",
       "      <th></th>\n",
       "      <th>CLL</th>\n",
       "      <th>NDVI</th>\n",
       "      <th>CVI</th>\n",
       "      <th>GNDVI</th>\n",
       "      <th>NRVI</th>\n",
       "      <th>RVI</th>\n",
       "      <th>GCI</th>\n",
       "    </tr>\n",
       "  </thead>\n",
       "  <tbody>\n",
       "    <tr>\n",
       "      <th>0</th>\n",
       "      <td>114.51</td>\n",
       "      <td>0.227151</td>\n",
       "      <td>1.458211</td>\n",
       "      <td>0.519744</td>\n",
       "      <td>0.227151</td>\n",
       "      <td>1.589461</td>\n",
       "      <td>1.519888</td>\n",
       "    </tr>\n",
       "    <tr>\n",
       "      <th>1</th>\n",
       "      <td>111.03</td>\n",
       "      <td>0.232475</td>\n",
       "      <td>1.504808</td>\n",
       "      <td>0.550758</td>\n",
       "      <td>0.232475</td>\n",
       "      <td>1.607123</td>\n",
       "      <td>1.550893</td>\n",
       "    </tr>\n",
       "    <tr>\n",
       "      <th>2</th>\n",
       "      <td>117.61</td>\n",
       "      <td>0.227241</td>\n",
       "      <td>1.433650</td>\n",
       "      <td>0.505362</td>\n",
       "      <td>0.227241</td>\n",
       "      <td>1.589634</td>\n",
       "      <td>1.505504</td>\n",
       "    </tr>\n",
       "    <tr>\n",
       "      <th>3</th>\n",
       "      <td>103.48</td>\n",
       "      <td>0.229360</td>\n",
       "      <td>1.445648</td>\n",
       "      <td>0.515255</td>\n",
       "      <td>0.229360</td>\n",
       "      <td>1.596564</td>\n",
       "      <td>1.515392</td>\n",
       "    </tr>\n",
       "    <tr>\n",
       "      <th>4</th>\n",
       "      <td>132.56</td>\n",
       "      <td>0.228474</td>\n",
       "      <td>1.515317</td>\n",
       "      <td>0.550987</td>\n",
       "      <td>0.228474</td>\n",
       "      <td>1.593706</td>\n",
       "      <td>1.551143</td>\n",
       "    </tr>\n",
       "  </tbody>\n",
       "</table>\n",
       "</div>"
      ],
      "text/plain": [
       "      CLL      NDVI       CVI     GNDVI      NRVI       RVI       GCI\n",
       "0  114.51  0.227151  1.458211  0.519744  0.227151  1.589461  1.519888\n",
       "1  111.03  0.232475  1.504808  0.550758  0.232475  1.607123  1.550893\n",
       "2  117.61  0.227241  1.433650  0.505362  0.227241  1.589634  1.505504\n",
       "3  103.48  0.229360  1.445648  0.515255  0.229360  1.596564  1.515392\n",
       "4  132.56  0.228474  1.515317  0.550987  0.228474  1.593706  1.551143"
      ]
     },
     "execution_count": 66,
     "metadata": {},
     "output_type": "execute_result"
    }
   ],
   "source": [
    "#Import dataset\n",
    "column_names = ['CLL','NDVI','CVI','GNDVI','NRVI','RVI','GCI']\n",
    "raw_dataset = pd.read_csv('./datosTesisCorrected.csv',names=column_names,\n",
    "                          na_values = \"?\", sep=\",\", skipinitialspace=True)\n",
    "dataset = raw_dataset.copy()\n",
    "dataset.head()"
   ]
  },
  {
   "cell_type": "code",
   "execution_count": 67,
   "id": "8e6e93d9",
   "metadata": {},
   "outputs": [
    {
     "data": {
      "text/plain": [
       "CLL      0\n",
       "NDVI     0\n",
       "CVI      0\n",
       "GNDVI    0\n",
       "NRVI     0\n",
       "RVI      0\n",
       "GCI      0\n",
       "dtype: int64"
      ]
     },
     "execution_count": 67,
     "metadata": {},
     "output_type": "execute_result"
    }
   ],
   "source": [
    "#Verify NaN data\n",
    "dataset.isna().sum()"
   ]
  },
  {
   "cell_type": "code",
   "execution_count": 68,
   "id": "ce3a7c8c",
   "metadata": {},
   "outputs": [],
   "source": [
    "#Clean data (in this case is optional XD)\n",
    "dataset = dataset.dropna()"
   ]
  },
  {
   "cell_type": "code",
   "execution_count": 69,
   "id": "c474b7f0",
   "metadata": {},
   "outputs": [
    {
     "data": {
      "text/html": [
       "<div>\n",
       "<style scoped>\n",
       "    .dataframe tbody tr th:only-of-type {\n",
       "        vertical-align: middle;\n",
       "    }\n",
       "\n",
       "    .dataframe tbody tr th {\n",
       "        vertical-align: top;\n",
       "    }\n",
       "\n",
       "    .dataframe thead th {\n",
       "        text-align: right;\n",
       "    }\n",
       "</style>\n",
       "<table border=\"1\" class=\"dataframe\">\n",
       "  <thead>\n",
       "    <tr style=\"text-align: right;\">\n",
       "      <th></th>\n",
       "      <th>CLL</th>\n",
       "      <th>NDVI</th>\n",
       "      <th>CVI</th>\n",
       "      <th>GNDVI</th>\n",
       "      <th>NRVI</th>\n",
       "      <th>RVI</th>\n",
       "      <th>GCI</th>\n",
       "    </tr>\n",
       "  </thead>\n",
       "  <tbody>\n",
       "    <tr>\n",
       "      <th>39</th>\n",
       "      <td>135.41</td>\n",
       "      <td>0.238489</td>\n",
       "      <td>1.452629</td>\n",
       "      <td>0.534050</td>\n",
       "      <td>0.238489</td>\n",
       "      <td>1.627838</td>\n",
       "      <td>1.534241</td>\n",
       "    </tr>\n",
       "    <tr>\n",
       "      <th>44</th>\n",
       "      <td>117.81</td>\n",
       "      <td>0.226692</td>\n",
       "      <td>1.386100</td>\n",
       "      <td>0.480380</td>\n",
       "      <td>0.226692</td>\n",
       "      <td>1.587522</td>\n",
       "      <td>1.480535</td>\n",
       "    </tr>\n",
       "    <tr>\n",
       "      <th>47</th>\n",
       "      <td>128.44</td>\n",
       "      <td>0.233010</td>\n",
       "      <td>1.526880</td>\n",
       "      <td>0.565249</td>\n",
       "      <td>0.233010</td>\n",
       "      <td>1.608327</td>\n",
       "      <td>1.565398</td>\n",
       "    </tr>\n",
       "    <tr>\n",
       "      <th>53</th>\n",
       "      <td>97.06</td>\n",
       "      <td>0.228409</td>\n",
       "      <td>1.394379</td>\n",
       "      <td>0.485881</td>\n",
       "      <td>0.228409</td>\n",
       "      <td>1.593739</td>\n",
       "      <td>1.486017</td>\n",
       "    </tr>\n",
       "    <tr>\n",
       "      <th>55</th>\n",
       "      <td>97.43</td>\n",
       "      <td>0.236460</td>\n",
       "      <td>1.553364</td>\n",
       "      <td>0.582689</td>\n",
       "      <td>0.236460</td>\n",
       "      <td>1.620582</td>\n",
       "      <td>1.582886</td>\n",
       "    </tr>\n",
       "  </tbody>\n",
       "</table>\n",
       "</div>"
      ],
      "text/plain": [
       "       CLL      NDVI       CVI     GNDVI      NRVI       RVI       GCI\n",
       "39  135.41  0.238489  1.452629  0.534050  0.238489  1.627838  1.534241\n",
       "44  117.81  0.226692  1.386100  0.480380  0.226692  1.587522  1.480535\n",
       "47  128.44  0.233010  1.526880  0.565249  0.233010  1.608327  1.565398\n",
       "53   97.06  0.228409  1.394379  0.485881  0.228409  1.593739  1.486017\n",
       "55   97.43  0.236460  1.553364  0.582689  0.236460  1.620582  1.582886"
      ]
     },
     "execution_count": 69,
     "metadata": {},
     "output_type": "execute_result"
    }
   ],
   "source": [
    "#Divide th dataset into training and tests (80% for training process and 20% for evaluation)\n",
    "train_dataset = dataset.sample(frac=0.8,random_state=0)\n",
    "test_dataset = dataset.drop(train_dataset.index)\n",
    "test_dataset.tail()"
   ]
  },
  {
   "cell_type": "code",
   "execution_count": 70,
   "id": "f663f9b5",
   "metadata": {},
   "outputs": [
    {
     "data": {
      "text/html": [
       "<div>\n",
       "<style scoped>\n",
       "    .dataframe tbody tr th:only-of-type {\n",
       "        vertical-align: middle;\n",
       "    }\n",
       "\n",
       "    .dataframe tbody tr th {\n",
       "        vertical-align: top;\n",
       "    }\n",
       "\n",
       "    .dataframe thead th {\n",
       "        text-align: right;\n",
       "    }\n",
       "</style>\n",
       "<table border=\"1\" class=\"dataframe\">\n",
       "  <thead>\n",
       "    <tr style=\"text-align: right;\">\n",
       "      <th></th>\n",
       "      <th>count</th>\n",
       "      <th>mean</th>\n",
       "      <th>std</th>\n",
       "      <th>min</th>\n",
       "      <th>25%</th>\n",
       "      <th>50%</th>\n",
       "      <th>75%</th>\n",
       "      <th>max</th>\n",
       "    </tr>\n",
       "  </thead>\n",
       "  <tbody>\n",
       "    <tr>\n",
       "      <th>NDVI</th>\n",
       "      <td>46.0</td>\n",
       "      <td>0.230437</td>\n",
       "      <td>0.004454</td>\n",
       "      <td>0.212748</td>\n",
       "      <td>0.227669</td>\n",
       "      <td>0.231061</td>\n",
       "      <td>0.232894</td>\n",
       "      <td>0.238740</td>\n",
       "    </tr>\n",
       "    <tr>\n",
       "      <th>CVI</th>\n",
       "      <td>46.0</td>\n",
       "      <td>1.471776</td>\n",
       "      <td>0.079611</td>\n",
       "      <td>1.259196</td>\n",
       "      <td>1.420155</td>\n",
       "      <td>1.483418</td>\n",
       "      <td>1.534911</td>\n",
       "      <td>1.620920</td>\n",
       "    </tr>\n",
       "    <tr>\n",
       "      <th>GNDVI</th>\n",
       "      <td>46.0</td>\n",
       "      <td>0.530468</td>\n",
       "      <td>0.046508</td>\n",
       "      <td>0.390106</td>\n",
       "      <td>0.497548</td>\n",
       "      <td>0.536801</td>\n",
       "      <td>0.563785</td>\n",
       "      <td>0.615024</td>\n",
       "    </tr>\n",
       "    <tr>\n",
       "      <th>NRVI</th>\n",
       "      <td>46.0</td>\n",
       "      <td>0.230437</td>\n",
       "      <td>0.004454</td>\n",
       "      <td>0.212748</td>\n",
       "      <td>0.227669</td>\n",
       "      <td>0.231061</td>\n",
       "      <td>0.232894</td>\n",
       "      <td>0.238740</td>\n",
       "    </tr>\n",
       "    <tr>\n",
       "      <th>RVI</th>\n",
       "      <td>46.0</td>\n",
       "      <td>1.600609</td>\n",
       "      <td>0.015077</td>\n",
       "      <td>1.541481</td>\n",
       "      <td>1.591183</td>\n",
       "      <td>1.602416</td>\n",
       "      <td>1.608658</td>\n",
       "      <td>1.630465</td>\n",
       "    </tr>\n",
       "    <tr>\n",
       "      <th>GCI</th>\n",
       "      <td>46.0</td>\n",
       "      <td>1.530621</td>\n",
       "      <td>0.046518</td>\n",
       "      <td>1.390198</td>\n",
       "      <td>1.497680</td>\n",
       "      <td>1.536931</td>\n",
       "      <td>1.563920</td>\n",
       "      <td>1.615195</td>\n",
       "    </tr>\n",
       "  </tbody>\n",
       "</table>\n",
       "</div>"
      ],
      "text/plain": [
       "       count      mean       std       min       25%       50%       75%  \\\n",
       "NDVI    46.0  0.230437  0.004454  0.212748  0.227669  0.231061  0.232894   \n",
       "CVI     46.0  1.471776  0.079611  1.259196  1.420155  1.483418  1.534911   \n",
       "GNDVI   46.0  0.530468  0.046508  0.390106  0.497548  0.536801  0.563785   \n",
       "NRVI    46.0  0.230437  0.004454  0.212748  0.227669  0.231061  0.232894   \n",
       "RVI     46.0  1.600609  0.015077  1.541481  1.591183  1.602416  1.608658   \n",
       "GCI     46.0  1.530621  0.046518  1.390198  1.497680  1.536931  1.563920   \n",
       "\n",
       "            max  \n",
       "NDVI   0.238740  \n",
       "CVI    1.620920  \n",
       "GNDVI  0.615024  \n",
       "NRVI   0.238740  \n",
       "RVI    1.630465  \n",
       "GCI    1.615195  "
      ]
     },
     "execution_count": 70,
     "metadata": {},
     "output_type": "execute_result"
    }
   ],
   "source": [
    "#View general data about train_data_set\n",
    "train_stats = train_dataset.describe()\n",
    "train_stats.pop(\"CLL\")\n",
    "train_stats = train_stats.transpose()\n",
    "train_stats"
   ]
  },
  {
   "cell_type": "code",
   "execution_count": 71,
   "id": "c01951bb",
   "metadata": {},
   "outputs": [
    {
     "data": {
      "text/plain": [
       "35    114.58\n",
       "34    140.40\n",
       "42    147.67\n",
       "27    135.05\n",
       "11    121.15\n",
       "Name: CLL, dtype: float64"
      ]
     },
     "execution_count": 71,
     "metadata": {},
     "output_type": "execute_result"
    }
   ],
   "source": [
    "#Select the target label\n",
    "train_labels = train_dataset.pop('CLL')\n",
    "test_labels = test_dataset.pop('CLL')\n",
    "train_labels.head()"
   ]
  },
  {
   "cell_type": "code",
   "execution_count": 72,
   "id": "633a2a91",
   "metadata": {},
   "outputs": [],
   "source": [
    "#Build a model -- MLP secuential model with 2 layers\n",
    "def build_model():\n",
    "  model = keras.Sequential([\n",
    "    layers.Dense(64, activation='relu', input_shape=[len(train_dataset.keys())]),\n",
    "    layers.Dense(64, activation='relu'),\n",
    "    layers.Dense(1)\n",
    "  ])\n",
    "\n",
    "  optimizer = tf.keras.optimizers.RMSprop(0.001)\n",
    "\n",
    "  model.compile(loss='mse',\n",
    "                optimizer=optimizer,\n",
    "                metrics=['mae', 'mse'])\n",
    "  return model\n"
   ]
  },
  {
   "cell_type": "code",
   "execution_count": 73,
   "id": "1d419879",
   "metadata": {},
   "outputs": [],
   "source": [
    "#Build\n",
    "model = build_model()"
   ]
  },
  {
   "cell_type": "code",
   "execution_count": 74,
   "id": "83acf3d6",
   "metadata": {},
   "outputs": [
    {
     "name": "stdout",
     "output_type": "stream",
     "text": [
      "Model: \"sequential_3\"\n",
      "_________________________________________________________________\n",
      "Layer (type)                 Output Shape              Param #   \n",
      "=================================================================\n",
      "dense_9 (Dense)              (None, 64)                448       \n",
      "_________________________________________________________________\n",
      "dense_10 (Dense)             (None, 64)                4160      \n",
      "_________________________________________________________________\n",
      "dense_11 (Dense)             (None, 1)                 65        \n",
      "=================================================================\n",
      "Total params: 4,673\n",
      "Trainable params: 4,673\n",
      "Non-trainable params: 0\n",
      "_________________________________________________________________\n"
     ]
    }
   ],
   "source": [
    "#Resume \n",
    "model.summary()"
   ]
  },
  {
   "cell_type": "code",
   "execution_count": 75,
   "id": "813d77d1",
   "metadata": {},
   "outputs": [
    {
     "data": {
      "text/html": [
       "<div>\n",
       "<style scoped>\n",
       "    .dataframe tbody tr th:only-of-type {\n",
       "        vertical-align: middle;\n",
       "    }\n",
       "\n",
       "    .dataframe tbody tr th {\n",
       "        vertical-align: top;\n",
       "    }\n",
       "\n",
       "    .dataframe thead th {\n",
       "        text-align: right;\n",
       "    }\n",
       "</style>\n",
       "<table border=\"1\" class=\"dataframe\">\n",
       "  <thead>\n",
       "    <tr style=\"text-align: right;\">\n",
       "      <th></th>\n",
       "      <th>NDVI</th>\n",
       "      <th>CVI</th>\n",
       "      <th>GNDVI</th>\n",
       "      <th>NRVI</th>\n",
       "      <th>RVI</th>\n",
       "      <th>GCI</th>\n",
       "    </tr>\n",
       "  </thead>\n",
       "  <tbody>\n",
       "    <tr>\n",
       "      <th>35</th>\n",
       "      <td>0.238740</td>\n",
       "      <td>1.607450</td>\n",
       "      <td>0.613232</td>\n",
       "      <td>0.238740</td>\n",
       "      <td>1.630465</td>\n",
       "      <td>1.613431</td>\n",
       "    </tr>\n",
       "    <tr>\n",
       "      <th>34</th>\n",
       "      <td>0.232754</td>\n",
       "      <td>1.556912</td>\n",
       "      <td>0.579622</td>\n",
       "      <td>0.232754</td>\n",
       "      <td>1.608176</td>\n",
       "      <td>1.579778</td>\n",
       "    </tr>\n",
       "    <tr>\n",
       "      <th>42</th>\n",
       "      <td>0.229729</td>\n",
       "      <td>1.315218</td>\n",
       "      <td>0.445593</td>\n",
       "      <td>0.229729</td>\n",
       "      <td>1.598709</td>\n",
       "      <td>1.445773</td>\n",
       "    </tr>\n",
       "    <tr>\n",
       "      <th>27</th>\n",
       "      <td>0.227597</td>\n",
       "      <td>1.414510</td>\n",
       "      <td>0.496794</td>\n",
       "      <td>0.227597</td>\n",
       "      <td>1.590994</td>\n",
       "      <td>1.496921</td>\n",
       "    </tr>\n",
       "    <tr>\n",
       "      <th>11</th>\n",
       "      <td>0.231772</td>\n",
       "      <td>1.475482</td>\n",
       "      <td>0.535967</td>\n",
       "      <td>0.231772</td>\n",
       "      <td>1.604709</td>\n",
       "      <td>1.536103</td>\n",
       "    </tr>\n",
       "  </tbody>\n",
       "</table>\n",
       "</div>"
      ],
      "text/plain": [
       "        NDVI       CVI     GNDVI      NRVI       RVI       GCI\n",
       "35  0.238740  1.607450  0.613232  0.238740  1.630465  1.613431\n",
       "34  0.232754  1.556912  0.579622  0.232754  1.608176  1.579778\n",
       "42  0.229729  1.315218  0.445593  0.229729  1.598709  1.445773\n",
       "27  0.227597  1.414510  0.496794  0.227597  1.590994  1.496921\n",
       "11  0.231772  1.475482  0.535967  0.231772  1.604709  1.536103"
      ]
     },
     "execution_count": 75,
     "metadata": {},
     "output_type": "execute_result"
    }
   ],
   "source": [
    "train_dataset= train_dataset.astype('float32')\n",
    "train_labels = train_labels.astype('float32')\n",
    "train_dataset.head()"
   ]
  },
  {
   "cell_type": "code",
   "execution_count": 77,
   "id": "425f21c2",
   "metadata": {},
   "outputs": [],
   "source": [
    "\n",
    "#Train model\n",
    "EPOCHS = 1000\n",
    "\n",
    "history = model.fit(\n",
    "  train_dataset, train_labels,\n",
    "  epochs=EPOCHS, validation_split = 0.2, verbose=0,)\n"
   ]
  },
  {
   "cell_type": "code",
   "execution_count": 78,
   "id": "a1360ba4",
   "metadata": {},
   "outputs": [
    {
     "data": {
      "text/html": [
       "<div>\n",
       "<style scoped>\n",
       "    .dataframe tbody tr th:only-of-type {\n",
       "        vertical-align: middle;\n",
       "    }\n",
       "\n",
       "    .dataframe tbody tr th {\n",
       "        vertical-align: top;\n",
       "    }\n",
       "\n",
       "    .dataframe thead th {\n",
       "        text-align: right;\n",
       "    }\n",
       "</style>\n",
       "<table border=\"1\" class=\"dataframe\">\n",
       "  <thead>\n",
       "    <tr style=\"text-align: right;\">\n",
       "      <th></th>\n",
       "      <th>loss</th>\n",
       "      <th>mae</th>\n",
       "      <th>mse</th>\n",
       "      <th>val_loss</th>\n",
       "      <th>val_mae</th>\n",
       "      <th>val_mse</th>\n",
       "      <th>epoch</th>\n",
       "    </tr>\n",
       "  </thead>\n",
       "  <tbody>\n",
       "    <tr>\n",
       "      <th>995</th>\n",
       "      <td>172.890869</td>\n",
       "      <td>10.830502</td>\n",
       "      <td>172.890869</td>\n",
       "      <td>235.152954</td>\n",
       "      <td>10.968130</td>\n",
       "      <td>235.152954</td>\n",
       "      <td>995</td>\n",
       "    </tr>\n",
       "    <tr>\n",
       "      <th>996</th>\n",
       "      <td>173.304596</td>\n",
       "      <td>10.846628</td>\n",
       "      <td>173.304596</td>\n",
       "      <td>249.215332</td>\n",
       "      <td>11.419765</td>\n",
       "      <td>249.215332</td>\n",
       "      <td>996</td>\n",
       "    </tr>\n",
       "    <tr>\n",
       "      <th>997</th>\n",
       "      <td>174.235184</td>\n",
       "      <td>10.888947</td>\n",
       "      <td>174.235184</td>\n",
       "      <td>235.746628</td>\n",
       "      <td>10.996145</td>\n",
       "      <td>235.746628</td>\n",
       "      <td>997</td>\n",
       "    </tr>\n",
       "    <tr>\n",
       "      <th>998</th>\n",
       "      <td>172.987198</td>\n",
       "      <td>10.837222</td>\n",
       "      <td>172.987198</td>\n",
       "      <td>245.474274</td>\n",
       "      <td>11.324850</td>\n",
       "      <td>245.474274</td>\n",
       "      <td>998</td>\n",
       "    </tr>\n",
       "    <tr>\n",
       "      <th>999</th>\n",
       "      <td>173.316025</td>\n",
       "      <td>10.831221</td>\n",
       "      <td>173.316025</td>\n",
       "      <td>235.884674</td>\n",
       "      <td>11.002481</td>\n",
       "      <td>235.884674</td>\n",
       "      <td>999</td>\n",
       "    </tr>\n",
       "  </tbody>\n",
       "</table>\n",
       "</div>"
      ],
      "text/plain": [
       "           loss        mae         mse    val_loss    val_mae     val_mse  \\\n",
       "995  172.890869  10.830502  172.890869  235.152954  10.968130  235.152954   \n",
       "996  173.304596  10.846628  173.304596  249.215332  11.419765  249.215332   \n",
       "997  174.235184  10.888947  174.235184  235.746628  10.996145  235.746628   \n",
       "998  172.987198  10.837222  172.987198  245.474274  11.324850  245.474274   \n",
       "999  173.316025  10.831221  173.316025  235.884674  11.002481  235.884674   \n",
       "\n",
       "     epoch  \n",
       "995    995  \n",
       "996    996  \n",
       "997    997  \n",
       "998    998  \n",
       "999    999  "
      ]
     },
     "execution_count": 78,
     "metadata": {},
     "output_type": "execute_result"
    }
   ],
   "source": [
    "#Show train stadisticts from history object\n",
    "hist = pd.DataFrame(history.history)\n",
    "hist['epoch'] = history.epoch\n",
    "hist.tail()"
   ]
  },
  {
   "cell_type": "code",
   "execution_count": 80,
   "id": "efb871f3",
   "metadata": {},
   "outputs": [
    {
     "data": {
      "image/png": "[encoded data removed]",
      "text/plain": [
       "<Figure size 432x288 with 1 Axes>"
      ]
     },
     "metadata": {
      "needs_background": "light"
     },
     "output_type": "display_data"
    },
    {
     "data": {
      "image/png": "[encoded data removed]",
      "text/plain": [
       "<Figure size 432x288 with 1 Axes>"
      ]
     },
     "metadata": {
      "needs_background": "light"
     },
     "output_type": "display_data"
    }
   ],
   "source": [
    "#Plot training and value error\n",
    "def plot_history(history):\n",
    "  hist = pd.DataFrame(history.history)\n",
    "  hist['epoch'] = history.epoch\n",
    "\n",
    "  plt.figure()\n",
    "  plt.xlabel('Epoch')\n",
    "  plt.ylabel('Mean Abs Error [CELL]')\n",
    "  plt.plot(hist['epoch'], hist['mae'],\n",
    "           label='Train Error')\n",
    "  plt.plot(hist['epoch'], hist['val_mae'],\n",
    "           label = 'Val Error')\n",
    "  plt.ylim([0,200])\n",
    "  plt.legend()\n",
    "\n",
    "  plt.figure()\n",
    "  plt.xlabel('Epoch')\n",
    "  plt.ylabel('Mean Square Error [$CELL^2$]')\n",
    "  plt.plot(hist['epoch'], hist['mse'],\n",
    "           label='Train Error')\n",
    "  plt.plot(hist['epoch'], hist['val_mse'],\n",
    "           label = 'Val Error')\n",
    "  plt.ylim([0,4000])\n",
    "  plt.legend()\n",
    "  plt.show()\n",
    "\n",
    "\n",
    "plot_history(history)"
   ]
  },
  {
   "cell_type": "code",
   "execution_count": 81,
   "id": "26864fd5",
   "metadata": {},
   "outputs": [
    {
     "data": {
      "image/png": "[encoded data removed]",
      "text/plain": [
       "<Figure size 432x288 with 1 Axes>"
      ]
     },
     "metadata": {
      "needs_background": "light"
     },
     "output_type": "display_data"
    },
    {
     "data": {
      "image/png": "[encoded data removed]",
      "text/plain": [
       "<Figure size 432x288 with 1 Axes>"
      ]
     },
     "metadata": {
      "needs_background": "light"
     },
     "output_type": "display_data"
    }
   ],
   "source": [
    "#Improve model with early stopping strategy\n",
    "model = build_model()\n",
    "\n",
    "# The patience parameter is the amount of epochs to check for improvement\n",
    "early_stop = keras.callbacks.EarlyStopping(monitor='val_loss', patience=10)\n",
    "\n",
    "history = model.fit(train_dataset, train_labels, epochs=EPOCHS,\n",
    "                    validation_split = 0.2, verbose=0, callbacks=[early_stop])\n",
    "\n",
    "plot_history(history)"
   ]
  },
  {
   "cell_type": "code",
   "execution_count": 82,
   "id": "b7973155",
   "metadata": {},
   "outputs": [
    {
     "name": "stdout",
     "output_type": "stream",
     "text": [
      "1/1 - 0s - loss: 318.7861 - mae: 13.7354 - mse: 318.7861\n",
      "Testing set Mean Abs Error: 13.74 CELL\n"
     ]
    }
   ],
   "source": [
    "#Evaluate model using data tes\n",
    "loss, mae, mse = model.evaluate(test_dataset, test_labels, verbose=2)\n",
    "\n",
    "print(\"Testing set Mean Abs Error: {:5.2f} CELL\".format(mae))"
   ]
  },
  {
   "cell_type": "code",
   "execution_count": 89,
   "id": "aacecc01",
   "metadata": {},
   "outputs": [
    {
     "data": {
      "image/png": "[encoded data removed]",
      "text/plain": [
       "<Figure size 432x288 with 1 Axes>"
      ]
     },
     "metadata": {
      "needs_background": "light"
     },
     "output_type": "display_data"
    }
   ],
   "source": [
    "test_predictions = model.predict(test_dataset).flatten()\n",
    "\n",
    "plt.scatter(test_labels, test_predictions)\n",
    "plt.xlabel('True Values [CELL]')\n",
    "plt.ylabel('Predictions [CELL]')\n",
    "plt.axis('equal')\n",
    "plt.axis('square')\n",
    "plt.xlim([80,plt.xlim()[1]])\n",
    "plt.ylim([80,plt.ylim()[1]])\n",
    "_ = plt.plot([0, 200], [0, 200])"
   ]
  },
  {
   "cell_type": "code",
   "execution_count": null,
   "id": "87f5ac8c",
   "metadata": {},
   "outputs": [],
   "source": []
  }
 ],
 "metadata": {
  "kernelspec": {
   "display_name": "Python 3",
   "language": "python",
   "name": "python3"
  },
  "language_info": {
   "codemirror_mode": {
    "name": "ipython",
    "version": 3
   },
   "file_extension": ".py",
   "mimetype": "text/x-python",
   "name": "python",
   "nbconvert_exporter": "python",
   "pygments_lexer": "ipython3",
   "version": "3.9.2"
  }
 },
 "nbformat": 4,
 "nbformat_minor": 5
}
