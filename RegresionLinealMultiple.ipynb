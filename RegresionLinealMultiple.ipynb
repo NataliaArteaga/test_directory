{
  "nbformat": 4,
  "nbformat_minor": 0,
  "metadata": {
    "colab": {
      "name": "RegresionLinealMultiple.ipynb",
      "provenance": [],
      "collapsed_sections": [],
      "authorship_tag": "ABX9TyPnx9FldTkDWdiEO6okl482",
      "include_colab_link": true
    },
    "kernelspec": {
      "name": "python3",
      "display_name": "Python 3"
    },
    "language_info": {
      "name": "python"
    }
  },
  "cells": [
    {
      "cell_type": "markdown",
      "metadata": {
        "id": "view-in-github",
        "colab_type": "text"
      },
      "source": [
        "<a href=\"https://colab.research.google.com/github/NataliaArteaga/test_directory/blob/master/RegresionLinealMultiple.ipynb\" target=\"_parent\"><img src=\"https://colab.research.google.com/assets/colab-badge.svg\" alt=\"Open In Colab\"/></a>"
      ]
    },
    {
      "cell_type": "code",
      "metadata": {
        "colab": {
          "base_uri": "https://localhost:8080/"
        },
        "id": "hIfCOyIHCaEb",
        "outputId": "aed4e8ff-2284-4a9e-a851-b602b8785805"
      },
      "source": [
        "import pandas as pd\n",
        "datos = pd.read_csv('./datosTesisCorrected.csv')\n",
        "datos.head()\n",
        "datos = datos.dropna()\n",
        "datos.shape"
      ],
      "execution_count": 1,
      "outputs": [
        {
          "output_type": "execute_result",
          "data": {
            "text/plain": [
              "(58, 7)"
            ]
          },
          "metadata": {
            "tags": []
          },
          "execution_count": 1
        }
      ]
    },
    {
      "cell_type": "code",
      "metadata": {
        "colab": {
          "base_uri": "https://localhost:8080/"
        },
        "id": "J64_hIFzCfW1",
        "outputId": "329a5a4e-a4ee-4a8b-cd36-abefc7f403a4"
      },
      "source": [
        "import statsmodels.api as sm\n",
        "from scipy import stats\n",
        "\n",
        "\n",
        "X = datos.iloc[:,[1,2,3,4,5,6]]\n",
        "y = datos.CLL\n",
        "\n",
        "X2 = sm.add_constant(X)\n",
        "est = sm.OLS(y, X2)\n",
        "est2 = est.fit()\n",
        "print(est2.summary())"
      ],
      "execution_count": 2,
      "outputs": [
        {
          "output_type": "stream",
          "text": [
            "/usr/local/lib/python3.7/dist-packages/statsmodels/tools/_testing.py:19: FutureWarning: pandas.util.testing is deprecated. Use the functions in the public API at pandas.testing instead.\n",
            "  import pandas.util.testing as tm\n"
          ],
          "name": "stderr"
        },
        {
          "output_type": "stream",
          "text": [
            "                            OLS Regression Results                            \n",
            "==============================================================================\n",
            "Dep. Variable:                    CLL   R-squared:                       0.131\n",
            "Model:                            OLS   Adj. R-squared:                  0.029\n",
            "Method:                 Least Squares   F-statistic:                     1.282\n",
            "Date:                Fri, 14 May 2021   Prob (F-statistic):              0.282\n",
            "Time:                        04:11:46   Log-Likelihood:                -230.05\n",
            "No. Observations:                  58   AIC:                             474.1\n",
            "Df Residuals:                      51   BIC:                             488.5\n",
            "Df Model:                           6                                         \n",
            "Covariance Type:            nonrobust                                         \n",
            "==============================================================================\n",
            "                 coef    std err          t      P>|t|      [0.025      0.975]\n",
            "------------------------------------------------------------------------------\n",
            "const      -1.769e+05   1.15e+05     -1.537      0.131   -4.08e+05    5.42e+04\n",
            "NDVI       -4.753e+09   5.94e+09     -0.800      0.427   -1.67e+10    7.17e+09\n",
            "CVI        -1480.9094   1037.899     -1.427      0.160   -3564.579     602.760\n",
            "GNDVI      -1.729e+05   1.18e+05     -1.471      0.147   -4.09e+05    6.31e+04\n",
            "NRVI        4.753e+09   5.94e+09      0.800      0.427   -7.17e+09    1.67e+10\n",
            "RVI         3667.2717   5009.123      0.732      0.467   -6388.962    1.37e+04\n",
            "GCI         1.757e+05   1.17e+05      1.499      0.140   -5.97e+04    4.11e+05\n",
            "==============================================================================\n",
            "Omnibus:                        0.423   Durbin-Watson:                   1.448\n",
            "Prob(Omnibus):                  0.809   Jarque-Bera (JB):                0.214\n",
            "Skew:                          -0.149   Prob(JB):                        0.899\n",
            "Kurtosis:                       3.005   Cond. No.                     1.37e+10\n",
            "==============================================================================\n",
            "\n",
            "Warnings:\n",
            "[1] Standard Errors assume that the covariance matrix of the errors is correctly specified.\n",
            "[2] The smallest eigenvalue is 2.63e-18. This might indicate that there are\n",
            "strong multicollinearity problems or that the design matrix is singular.\n"
          ],
          "name": "stdout"
        }
      ]
    },
    {
      "cell_type": "code",
      "metadata": {
        "colab": {
          "base_uri": "https://localhost:8080/",
          "height": 662
        },
        "id": "CK4zLCQJCnOM",
        "outputId": "5a81a10b-3fb8-4d5d-deff-04e94835ed15"
      },
      "source": [
        "import statsmodels.api as sm\n",
        "from scipy import stats\n",
        "\n",
        "import numpy as np\n",
        "import matplotlib.pyplot as plt\n",
        "import pandas as pd\n",
        "from sklearn.metrics import mean_absolute_error\n",
        "from sklearn.linear_model import LinearRegression\n",
        "import csv\n",
        "import pylab as pl\n",
        "\n",
        "datos = pd.read_csv('./datosTesisCorrected.csv')\n",
        "datos.describe()\n",
        "cda= datos[['CLL','NDVI','CVI','GNDVI', 'NRVI', 'RVI', 'GCI']]\n",
        "cda.head(6)\n",
        "viz=cda[['CLL','NDVI','CVI','GNDVI', 'NRVI', 'RVI', 'GCI']]\n",
        "viz.hist()\n",
        "plt.show()\n",
        "\n",
        "plt.scatter(cda.NDVI,cda.CLL, color='green')\n",
        "plt.xlabel('NDVI')\n",
        "plt.ylabel('CLL')\n",
        "plt.show\n",
        "\n",
        "\n",
        "\n",
        "msk = np.random.rand(len(datos)) < 0.85\n",
        "entreno = cda[msk]\n",
        "test = cda[~msk]\n",
        "\n",
        "\n",
        "plt.scatter(entreno.NDVI,entreno.CLL, color='magenta')\n",
        "plt.xlabel('NDVI')\n",
        "plt.ylabel('CLL')\n",
        "plt.show\n",
        "\n",
        "from sklearn import linear_model\n",
        "regr = linear_model.LinearRegression ()\n",
        "x = np.asanyarray(entreno[['NDVI','CVI','GNDVI', 'NRVI', 'RVI', 'GCI']])\n",
        "y = np.asanyarray(entreno[['CLL']])\n",
        "regr.fit(x,y)\n",
        "\n",
        "print('coeficientes', regr.coef_)\n",
        "print('Interseccion', regr.intercept_)\n",
        "\n",
        "y_hat = regr.predict(test[['NDVI','CVI','GNDVI', 'NRVI', 'RVI', 'GCI']])\n",
        "x = np.asanyarray(test[['NDVI','CVI','GNDVI', 'NRVI', 'RVI', 'GCI']])\n",
        "y = np.asanyarray(test[['CLL']])\n",
        "\n",
        "from sklearn.metrics import r2_score\n",
        "\n",
        "print(\"Suma de cuadrados residual: %.2f\" % np.mean((y_hat - y) ** 2))\n",
        "print(\"R2: %.2f\" % r2_score(y_hat, y))\n",
        "print(\"mae: %.2f\" % mean_absolute_error(y, y_hat)) \n",
        "print(\"varianza modelo: %.2f\" % regr.score(x, y))   "
      ],
      "execution_count": 7,
      "outputs": [
        {
          "output_type": "display_data",
          "data": {
            "image/png": "[encoded data removed]",
            "text/plain": [
              "<Figure size 432x288 with 9 Axes>"
            ]
          },
          "metadata": {
            "tags": [],
            "needs_background": "light"
          }
        },
        {
          "output_type": "stream",
          "text": [
            "coeficientes [[-1.08473164e+10 -8.85904955e+02 -3.62854414e+05  1.08473262e+10\n",
            "  -3.79132977e+03  3.64479348e+05]]\n",
            "Interseccion [-360162.12417313]\n",
            "Suma de cuadrados residual: 505.52\n",
            "R2: -4.57\n",
            "mae: 16.84\n",
            "varianza modelo: -0.80\n"
          ],
          "name": "stdout"
        },
        {
          "output_type": "display_data",
          "data": {
            "image/png": "[encoded data removed]",
            "text/plain": [
              "<Figure size 432x288 with 1 Axes>"
            ]
          },
          "metadata": {
            "tags": [],
            "needs_background": "light"
          }
        }
      ]
    }
  ]
}